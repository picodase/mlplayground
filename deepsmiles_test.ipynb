{
 "metadata": {
  "language_info": {
   "codemirror_mode": {
    "name": "ipython",
    "version": 3
   },
   "file_extension": ".py",
   "mimetype": "text/x-python",
   "name": "python",
   "nbconvert_exporter": "python",
   "pygments_lexer": "ipython3",
   "version": "3.7.7-final"
  },
  "orig_nbformat": 2,
  "kernelspec": {
   "name": "python37764bitmodellingcondade1d182d7a3b4c89bbb00a24c0786a3d",
   "display_name": "Python 3.7.7 64-bit ('modelling': conda)"
  }
 },
 "nbformat": 4,
 "nbformat_minor": 2,
 "cells": [
  {
   "cell_type": "code",
   "execution_count": null,
   "metadata": {},
   "outputs": [],
   "source": [
    "import deepsmiles"
   ]
  },
  {
   "cell_type": "code",
   "execution_count": null,
   "metadata": {
    "tags": []
   },
   "outputs": [],
   "source": [
    "print(\"DeepSMILES version: %s\" % deepsmiles.__version__)\n",
    "converter = deepsmiles.Converter(rings=True, branches=True)\n",
    "print(converter) # record the options used\n",
    "\n",
    "encoded = converter.encode(\"c1cccc(C(=O)Cl)c1\")\n",
    "print(\"Encoded: %s\" % encoded)\n",
    "\n",
    "try:\n",
    "    decoded = converter.decode(encoded)\n",
    "except deepsmiles.DecodeError as e:\n",
    "    decoded = None\n",
    "    print(\"DecodeError! Error message was '%s'\" % e.message)\n",
    "\n",
    "if decoded:\n",
    "    print(\"Decoded: %s\" % decoded)"
   ]
  }
 ]
}