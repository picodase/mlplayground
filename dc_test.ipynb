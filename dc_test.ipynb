{
 "metadata": {
  "language_info": {
   "codemirror_mode": {
    "name": "ipython",
    "version": 3
   },
   "file_extension": ".py",
   "mimetype": "text/x-python",
   "name": "python",
   "nbconvert_exporter": "python",
   "pygments_lexer": "ipython3",
   "version": "3.7.7-final"
  },
  "orig_nbformat": 2,
  "kernelspec": {
   "name": "python37764bitmodellingcondade1d182d7a3b4c89bbb00a24c0786a3d",
   "display_name": "Python 3.7.7 64-bit ('modelling': conda)"
  }
 },
 "nbformat": 4,
 "nbformat_minor": 2,
 "cells": [
  {
   "cell_type": "code",
   "execution_count": 1,
   "metadata": {},
   "outputs": [],
   "source": [
    "# Import needed packages\n",
    "import deepchem as dc \n",
    "import numpy as np\n",
    "import rdkit"
   ]
  },
  {
   "cell_type": "code",
   "execution_count": 2,
   "metadata": {
    "tags": []
   },
   "outputs": [
    {
     "output_type": "stream",
     "name": "stdout",
     "text": "[[0.58617281 0.8701479  0.04160662 0.63960343 0.44705335]\n [0.31865176 0.85162278 0.61855158 0.98121017 0.58804488]\n [0.81979971 0.20475982 0.31950805 0.75355156 0.54869868]\n [0.68430579 0.16361704 0.38867889 0.77749625 0.7106369 ]]\n[[0.65207334]\n [0.5722105 ]\n [0.60399624]\n [0.68017512]]\n"
    }
   ],
   "source": [
    "# Generate a random input and output tensor\n",
    "x = np.random.random((4,5))\n",
    "y = np.random.random((4,1))\n",
    "print(x)\n",
    "print(y)"
   ]
  },
  {
   "cell_type": "code",
   "execution_count": 4,
   "metadata": {},
   "outputs": [],
   "source": [
    "smiles = ['C1CCCCC1', 'O1CCOCC1'] # cyclohexane and dioxane\n",
    "mols = [rdkit.Chem.MolFromSmiles(smile) for smile in smiles]\n",
    "feat = dc.feat.CircularFingerprint(size=1024)\n",
    "arr = feat.featurize(mols)\n",
    "# arr is a 2-by-1024 array containing the fingerprints for\n",
    "# the two molecules"
   ]
  },
  {
   "cell_type": "code",
   "execution_count": null,
   "metadata": {},
   "outputs": [],
   "source": [
    "arr"
   ]
  },
  {
   "cell_type": "markdown",
   "metadata": {},
   "source": [
    "PDBBind dataset"
   ]
  },
  {
   "cell_type": "code",
   "execution_count": 5,
   "metadata": {},
   "outputs": [],
   "source": [
    "import deepchem as dc\n",
    "grid_featurizer = dc.feat.RdkitGridFeaturizer(voxel_width=2.0, feature_types=['hbond', 'salt_bridge',  'pi_stack','cation_pi', 'ecfp', 'splif'], sanitize=True, flatten=True)"
   ]
  },
  {
   "cell_type": "code",
   "execution_count": 8,
   "metadata": {
    "tags": [
     "outputPrepend"
    ]
   },
   "outputs": [
    {
     "output_type": "stream",
     "name": "stdout",
     "text": "ok 0.165 s\nTIMING: Centroid processing took 0.005 s\nTIMING: Loading protein coordinates took 88.640 s\nTIMING: Loading ligand coordinates took 0.251 s\nTIMING: Centroid processing took 0.000 s\nTIMING: Loading protein coordinates took 1544.716 s\nTIMING: Loading ligand coordinates took 0.320 s\nTIMING: Centroid processing took 0.002 s\nTIMING: Loading protein coordinates took 85.937 s\nTIMING: Loading ligand coordinates took 0.111 s\nTIMING: Centroid processing took 0.001 s\nTIMING: Loading protein coordinates took 18.574 s\nTIMING: Loading ligand coordinates took 0.624 s\nTIMING: Centroid processing took 0.000 s\nTIMING: Loading protein coordinates took 10.161 s\nTIMING: Loading ligand coordinates took 0.206 s\nTIMING: Centroid processing took 0.000 s\nTIMING: Loading protein coordinates took 11.037 s\nTIMING: Loading ligand coordinates took 0.210 s\nTIMING: Centroid processing took 0.000 s\nTIMING: Loading protein coordinates took 18.047 s\nTIMING: Loading ligand coordinates took 0.169 s\nTIMING: Centroid processing took 0.000 s\nTIMING: Loading protein coordinates took 15.138 s\nTIMING: Loading ligand coordinates took 0.144 s\nTIMING: Centroid processing took 0.000 s\nTIMING: Loading protein coordinates took 4.394 s\nTIMING: Loading ligand coordinates took 0.105 s\nTIMING: Centroid processing took 0.000 s\nTIMING: Loading protein coordinates took 20.193 s\nTIMING: Loading ligand coordinates took 0.245 s\nTIMING: Centroid processing took 0.000 s\nTIMING: Loading protein coordinates took 174.404 s\nTIMING: Loading ligand coordinates took 0.181 s\nTIMING: Centroid processing took 0.001 s\nTIMING: Loading protein coordinates took 16.151 s\nTIMING: Loading ligand coordinates took 0.177 s\nTIMING: Centroid processing took 0.000 s\nTIMING: Loading protein coordinates took 26.479 s\nTIMING: Loading ligand coordinates took 0.144 s\nTIMING: Centroid processing took 0.000 s\nTIMING: Loading protein coordinates took 64.208 s\nTIMING: Loading ligand coordinates took 0.220 s\nTIMING: Centroid processing took 0.000 s\nTIMING: Loading protein coordinates took 1549.488 s\nTIMING: Loading ligand coordinates took 0.167 s\nTIMING: Centroid processing took 0.003 s\nTIMING: Loading protein coordinates took 23.361 s\nTIMING: Loading ligand coordinates took 0.162 s\nTIMING: Centroid processing took 0.000 s\nTIMING: Loading protein coordinates took 18.853 s\nTIMING: Loading ligand coordinates took 0.220 s\nTIMING: Centroid processing took 0.000 s\nTIMING: Loading protein coordinates took 56.565 s\nTIMING: Loading ligand coordinates took 0.216 s\nTIMING: Centroid processing took 0.000 s\nTIMING: Loading protein coordinates took 237.264 s\nTIMING: Loading ligand coordinates took 0.170 s\nTIMING: Centroid processing took 0.001 s\nTIMING: Loading protein coordinates took 51.094 s\nTIMING: Loading ligand coordinates took 0.218 s\nTIMING: Centroid processing took 0.000 s\nTIMING: Loading protein coordinates took 607.525 s\nTIMING: Loading ligand coordinates took 0.201 s\nTIMING: Centroid processing took 0.002 s\nTIMING: Loading protein coordinates took 15.957 s\nTIMING: Loading ligand coordinates took 0.193 s\nTIMING: Centroid processing took 0.000 s\nTIMING: Loading protein coordinates took 18.586 s\nTIMING: Loading ligand coordinates took 0.221 s\nTIMING: Centroid processing took 0.000 s\nTIMING: Loading protein coordinates took 12.150 s\nTIMING: Loading ligand coordinates took 0.116 s\nTIMING: Centroid processing took 0.000 s\nTIMING: Loading protein coordinates took 234.994 s\nTIMING: Loading ligand coordinates took 0.203 s\nTIMING: Centroid processing took 0.001 s\nTIMING: Loading protein coordinates took 59.249 s\nTIMING: Loading ligand coordinates took 0.159 s\nTIMING: Centroid processing took 0.000 s\nTIMING: Loading protein coordinates took 26.245 s\nTIMING: Loading ligand coordinates took 0.176 s\nTIMING: Centroid processing took 0.000 s\nTIMING: Loading protein coordinates took 15.389 s\nTIMING: Loading ligand coordinates took 0.148 s\nTIMING: Centroid processing took 0.000 s\nTIMING: Loading protein coordinates took 30.506 s\nTIMING: Loading ligand coordinates took 0.245 s\nTIMING: Centroid processing took 0.000 s\nTIMING: Loading protein coordinates took 63.814 s\nTIMING: Loading ligand coordinates took 0.386 s\nTIMING: Centroid processing took 0.000 s\nTIMING: Loading protein coordinates took 548.200 s\nTIMING: Loading ligand coordinates took 0.106 s\nTIMING: Centroid processing took 0.001 s\nTIMING: Loading protein coordinates took 25.374 s\nTIMING: Loading ligand coordinates took 0.134 s\nTIMING: Centroid processing took 0.000 s\nTIMING: Loading protein coordinates took 77.243 s\nTIMING: Loading ligand coordinates took 0.208 s\nTIMING: Centroid processing took 0.003 s\nTIMING: Loading protein coordinates took 256.201 s\nTIMING: Loading ligand coordinates took 0.170 s\nTIMING: Centroid processing took 0.001 s\nTIMING: Loading protein coordinates took 19.134 s\nTIMING: Loading ligand coordinates took 0.356 s\nTIMING: Centroid processing took 0.000 s\nTIMING: Loading protein coordinates took 25.236 s\nTIMING: Loading ligand coordinates took 0.198 s\nTIMING: Centroid processing took 0.000 s\nTIMING: Loading protein coordinates took 70.581 s\nTIMING: Loading ligand coordinates took 0.109 s\nTIMING: Centroid processing took 0.001 s\nTIMING: Loading protein coordinates took 12.558 s\nTIMING: Loading ligand coordinates took 0.123 s\nTIMING: Centroid processing took 0.000 s\nTIMING: Loading protein coordinates took 15.876 s\nTIMING: Loading ligand coordinates took 0.247 s\nTIMING: Centroid processing took 0.000 s\nTIMING: Loading protein coordinates took 54.649 s\nTIMING: Loading ligand coordinates took 0.151 s\nTIMING: Centroid processing took 0.000 s\nTIMING: Loading protein coordinates took 19.900 s\nTIMING: Loading ligand coordinates took 0.091 s\nTIMING: Centroid processing took 0.001 s\nTIMING: Loading protein coordinates took 28.477 s\nTIMING: Loading ligand coordinates took 0.121 s\nTIMING: Centroid processing took 0.000 s\nTIMING: Loading protein coordinates took 20.197 s\nTIMING: Loading ligand coordinates took 0.307 s\nTIMING: Centroid processing took 0.000 s\nTIMING: Loading protein coordinates took 18.822 s\nTIMING: Loading ligand coordinates took 0.117 s\nTIMING: Centroid processing took 0.000 s\nTIMING: Loading protein coordinates took 17.242 s\nTIMING: Loading protein coordinates took 15.932 s\nTIMING: Loading ligand coordinates took 0.273 s\nTIMING: Centroid processing took 0.000 s\nTIMING: Loading ligand coordinates took 0.212 s\nTIMING: Centroid processing took 0.000 s\nTIMING: Loading protein coordinates took 19.960 s\nTIMING: Loading ligand coordinates took 0.115 s\nTIMING: Centroid processing took 0.000 s\nTIMING: Loading protein coordinates took 16.326 s\nTIMING: Loading ligand coordinates took 0.118 s\nTIMING: Centroid processing took 0.000 s\nTIMING: Loading protein coordinates took 22.853 s\nTIMING: Loading ligand coordinates took 0.230 s\nTIMING: Centroid processing took 0.000 s\nTIMING: Loading protein coordinates took 30.698 s\nTIMING: Loading ligand coordinates took 0.135 s\nTIMING: Centroid processing took 0.001 s\nTIMING: Loading protein coordinates took 18.097 s\nTIMING: Loading ligand coordinates took 0.207 s\nTIMING: Centroid processing took 0.000 s\nTIMING: Loading protein coordinates took 15.636 s\nTIMING: Loading ligand coordinates took 0.427 s\nTIMING: Centroid processing took 0.000 s\nTIMING: Loading protein coordinates took 14.854 s\nTIMING: Loading ligand coordinates took 0.196 s\nTIMING: Centroid processing took 0.000 s\nTIMING: Loading protein coordinates took 10.300 s\nTIMING: Loading ligand coordinates took 0.341 s\nTIMING: Centroid processing took 0.000 s\nTIMING: Loading protein coordinates took 11.748 s\nTIMING: Loading ligand coordinates took 0.145 s\nTIMING: Centroid processing took 0.000 s\nTIMING: Loading protein coordinates took 16.245 s\nTIMING: Loading ligand coordinates took 0.105 s\nTIMING: Centroid processing took 0.000 s\nTIMING: Loading protein coordinates took 25.363 s\nTIMING: Loading ligand coordinates took 0.279 s\nTIMING: Centroid processing took 0.000 s\nTIMING: Loading protein coordinates took 7.707 s\nTIMING: Loading ligand coordinates took 0.430 s\nTIMING: Centroid processing took 0.000 s\nTIMING: Loading protein coordinates took 27.248 s\nTIMING: Loading ligand coordinates took 0.145 s\nTIMING: Centroid processing took 0.000 s\nTIMING: Loading protein coordinates took 13.078 s\nTIMING: Loading ligand coordinates took 0.391 s\nTIMING: Centroid processing took 0.000 s\nTIMING: Loading protein coordinates took 64.839 s\nTIMING: Loading ligand coordinates took 0.427 s\nTIMING: Centroid processing took 0.000 s\nTIMING: Loading protein coordinates took 38.741 s\nTIMING: Loading ligand coordinates took 0.249 s\nTIMING: Centroid processing took 0.000 s\nTIMING: Loading protein coordinates took 17.855 s\nTIMING: Loading ligand coordinates took 0.224 s\nTIMING: Centroid processing took 0.000 s\nTIMING: Loading protein coordinates took 18.241 s\nTIMING: Loading ligand coordinates took 0.168 s\nTIMING: Centroid processing took 0.000 s\nTIMING: Loading protein coordinates took 41.549 s\nTIMING: Loading ligand coordinates took 0.675 s\nTIMING: Centroid processing took 0.000 s\nTIMING: Loading protein coordinates took 64.932 s\nTIMING: Loading ligand coordinates took 0.265 s\nTIMING: Centroid processing took 0.000 s\nTIMING: Loading protein coordinates took 71.058 s\nTIMING: Loading ligand coordinates took 0.250 s\nTIMING: Centroid processing took 0.000 s\nTIMING: Loading protein coordinates took 20.882 s\nTIMING: Loading ligand coordinates took 0.175 s\nTIMING: Centroid processing took 0.000 s\nTIMING: Loading protein coordinates took 28.798 s\nTIMING: Loading ligand coordinates took 0.308 s\nTIMING: Centroid processing took 0.000 s\nTIMING: Loading protein coordinates took 33.398 s\nTIMING: Loading ligand coordinates took 0.245 s\nTIMING: Centroid processing took 0.000 s\nTIMING: Loading protein coordinates took 1752.857 s\nTIMING: Loading ligand coordinates took 0.225 s\nTIMING: Centroid processing took 0.002 s\nTIMING: Loading protein coordinates took 15.284 s\nTIMING: Loading ligand coordinates took 0.140 s\nTIMING: Centroid processing took 0.000 s\nTIMING: Loading protein coordinates took 112.718 s\nTIMING: Loading ligand coordinates took 0.231 s\nTIMING: Centroid processing took 0.006 s\nTIMING: Loading protein coordinates took 17.147 s\nTIMING: Loading ligand coordinates took 0.250 s\nTIMING: Centroid processing took 0.000 s\nTIMING: Loading protein coordinates took 58.765 s\nTIMING: Loading ligand coordinates took 0.165 s\nTIMING: Centroid processing took 0.000 s\nTIMING: Loading protein coordinates took 27.416 s\nTIMING: Loading ligand coordinates took 0.326 s\nTIMING: Centroid processing took 0.000 s\nTIMING: Loading protein coordinates took 93.416 s\nTIMING: Loading ligand coordinates took 0.151 s\nTIMING: Centroid processing took 0.001 s\nTIMING: Loading protein coordinates took 235.644 s\nTIMING: Loading ligand coordinates took 0.244 s\nTIMING: Centroid processing took 0.001 s\nTIMING: Loading protein coordinates took 92.284 s\nTIMING: Loading ligand coordinates took 0.116 s\nTIMING: Centroid processing took 0.001 s\nTIMING: Loading protein coordinates took 8.305 s\nTIMING: Loading ligand coordinates took 0.362 s\nTIMING: Centroid processing took 0.000 s\nTIMING: Loading protein coordinates took 94.159 s\nTIMING: Loading ligand coordinates took 0.197 s\nTIMING: Centroid processing took 0.007 s\nTIMING: Loading protein coordinates took 37.921 s\nTIMING: Loading ligand coordinates took 0.255 s\nTIMING: Centroid processing took 0.000 s\nTIMING: Loading protein coordinates took 16.465 s\nTIMING: Loading ligand coordinates took 0.362 s\nTIMING: Centroid processing took 0.000 s\nTIMING: Loading protein coordinates took 203.224 s\nTIMING: Loading ligand coordinates took 0.203 s\nTIMING: Centroid processing took 0.001 s\nTIMING: Loading protein coordinates took 6.877 s\nTIMING: Loading ligand coordinates took 0.334 s\nTIMING: Centroid processing took 0.000 s\nTIMING: Loading protein coordinates took 84.565 s\nTIMING: Loading ligand coordinates took 0.232 s\nTIMING: Centroid processing took 0.001 s\nTIMING: Loading protein coordinates took 15.662 s\nTIMING: Loading ligand coordinates took 0.189 s\nTIMING: Centroid processing took 0.000 s\nTIMING: Loading protein coordinates took 8.169 s\nTIMING: Loading ligand coordinates took 0.119 s\nTIMING: Centroid processing took 0.000 s\nTIMING: Loading protein coordinates took 9.466 s\nTIMING: Loading ligand coordinates took 0.233 s\nTIMING: Centroid processing took 0.000 s\nTIMING: Loading protein coordinates took 47.819 s\nTIMING: Loading ligand coordinates took 0.175 s\nTIMING: Centroid processing took 0.000 s\nTIMING: Loading protein coordinates took 32.888 s\nTIMING: Loading ligand coordinates took 0.186 s\nTIMING: Centroid processing took 0.000 s\nTIMING: Loading protein coordinates took 17.682 s\nTIMING: Loading ligand coordinates took 0.550 s\nTIMING: Centroid processing took 0.000 s\nTIMING: Loading protein coordinates took 24.724 s\nTIMING: Loading ligand coordinates took 0.111 s\nTIMING: Centroid processing took 0.000 s\nTIMING: Loading protein coordinates took 13.999 s\nTIMING: Loading ligand coordinates took 0.312 s\nTIMING: Centroid processing took 0.000 s\nTIMING: Loading protein coordinates took 48.429 s\nTIMING: Loading ligand coordinates took 0.176 s\nTIMING: Centroid processing took 0.001 s\nTIMING: Loading protein coordinates took 33.624 s\nTIMING: Loading ligand coordinates took 0.231 s\nTIMING: Centroid processing took 0.001 s\nTIMING: Loading protein coordinates took 30.361 s\nTIMING: Loading ligand coordinates took 0.291 s\nTIMING: Centroid processing took 0.000 s\nTIMING: Loading protein coordinates took 39.887 s\nTIMING: Loading ligand coordinates took 0.237 s\nTIMING: Centroid processing took 0.000 s\nTIMING: Loading protein coordinates took 21.691 s\nTIMING: Loading ligand coordinates took 0.307 s\nTIMING: Centroid processing took 0.000 s\nTIMING: Loading protein coordinates took 16.163 s\nTIMING: Loading ligand coordinates took 0.300 s\nTIMING: Centroid processing took 0.000 s\nTIMING: Loading protein coordinates took 20.294 s\nTIMING: Loading ligand coordinates took 0.206 s\nTIMING: Centroid processing took 0.000 s\nTIMING: Loading protein coordinates took 47.241 s\nTIMING: Loading ligand coordinates took 0.204 s\nTIMING: Centroid processing took 0.000 s\nTIMING: Loading protein coordinates took 7.645 s\nTIMING: Loading ligand coordinates took 0.330 s\nTIMING: Centroid processing took 0.000 s\nTIMING: Loading protein coordinates took 11.152 s\nTIMING: Loading ligand coordinates took 0.111 s\nTIMING: Centroid processing took 0.000 s\nTIMING: Loading protein coordinates took 443.164 s\nTIMING: Loading ligand coordinates took 0.151 s\nTIMING: Centroid processing took 0.001 s\nTIMING: Loading protein coordinates took 22.826 s\nTIMING: Loading ligand coordinates took 0.188 s\nTIMING: Centroid processing took 0.000 s\nTIMING: Loading protein coordinates took 11.510 s\nTIMING: Loading ligand coordinates took 0.222 s\nTIMING: Centroid processing took 0.000 s\nTIMING: Loading protein coordinates took 29.562 s\nTIMING: Loading ligand coordinates took 0.214 s\nTIMING: Centroid processing took 0.000 s\nTIMING: Loading protein coordinates took 199.759 s\nTIMING: Loading ligand coordinates took 0.314 s\nTIMING: Centroid processing took 0.001 s\nTIMING: Loading protein coordinates took 36.461 s\nTIMING: Loading ligand coordinates took 0.343 s\nTIMING: Centroid processing took 0.000 s\nTIMING: Loading protein coordinates took 537.076 s\nTIMING: Loading ligand coordinates took 0.193 s\nTIMING: Centroid processing took 0.001 s\nTIMING: Loading protein coordinates took 246.603 s\nTIMING: Loading ligand coordinates took 0.309 s\nTIMING: Centroid processing took 0.007 s\nTIMING: Loading protein coordinates took 26.119 s\nTIMING: Loading ligand coordinates took 0.211 s\nTIMING: Centroid processing took 0.000 s\nTIMING: Loading protein coordinates took 16.658 s\nTIMING: Loading ligand coordinates took 0.194 s\nTIMING: Centroid processing took 0.000 s\nTIMING: Loading protein coordinates took 28.028 s\nTIMING: Loading ligand coordinates took 0.208 s\nTIMING: Centroid processing took 0.000 s\nTIMING: Loading protein coordinates took 21.075 s\nTIMING: Loading ligand coordinates took 0.142 s\nTIMING: Centroid processing took 0.000 s\nTIMING: Loading protein coordinates took 30.697 s\nTIMING: Loading ligand coordinates took 0.267 s\nTIMING: Centroid processing took 0.000 s\nTIMING: Loading protein coordinates took 13.905 s\nTIMING: Loading ligand coordinates took 0.238 s\nTIMING: Centroid processing took 0.000 s\nTIMING: Loading protein coordinates took 16.199 s\nTIMING: Loading ligand coordinates took 0.434 s\nTIMING: Centroid processing took 0.000 s\nTIMING: Loading protein coordinates took 160.013 s\nTIMING: Loading ligand coordinates took 0.334 s\nTIMING: Centroid processing took 0.001 s\nTIMING: Loading protein coordinates took 15.744 s\nTIMING: Loading protein coordinates took 26.266 s\nTIMING: Loading ligand coordinates took 0.221 s\nTIMING: Centroid processing took 0.000 s\nTIMING: Loading ligand coordinates took 0.297 s\nTIMING: Centroid processing took 0.001 s\nTIMING: Loading protein coordinates took 41.789 s\nTIMING: Loading ligand coordinates took 0.284 s\nTIMING: Centroid processing took 0.000 s\nTIMING: Loading protein coordinates took 13.085 s\nTIMING: Loading ligand coordinates took 0.213 s\nTIMING: Centroid processing took 0.000 s\nTIMING: Loading protein coordinates took 15.601 s\nTIMING: Loading ligand coordinates took 0.119 s\nTIMING: Centroid processing took 0.000 s\nTIMING: Loading protein coordinates took 13.843 s\nTIMING: Loading ligand coordinates took 0.256 s\nTIMING: Centroid processing took 0.000 s\nTIMING: Loading protein coordinates took 60.836 s\nTIMING: Loading ligand coordinates took 0.153 s\nTIMING: Centroid processing took 0.000 s\nTIMING: Loading protein coordinates took 27.241 s\nTIMING: Loading ligand coordinates took 0.118 s\nTIMING: Centroid processing took 0.000 s\nTIMING: Loading protein coordinates took 34.941 s\nTIMING: Loading ligand coordinates took 0.255 s\nTIMING: Centroid processing took 0.000 s\nTIMING: Loading protein coordinates took 52.798 s\nTIMING: Loading ligand coordinates took 0.159 s\nTIMING: Centroid processing took 0.000 s\nTIMING: Loading protein coordinates took 11.707 s\nTIMING: Loading ligand coordinates took 0.139 s\nTIMING: Centroid processing took 0.000 s\nTIMING: Loading protein coordinates took 20.103 s\nTIMING: Loading ligand coordinates took 0.476 s\nTIMING: Centroid processing took 0.003 s\nTIMING: Loading protein coordinates took 17.455 s\nTIMING: Loading ligand coordinates took 0.181 s\nTIMING: Centroid processing took 0.000 s\nTIMING: Loading protein coordinates took 15.827 s\nTIMING: Loading ligand coordinates took 0.275 s\nTIMING: Centroid processing took 0.000 s\nTIMING: Loading protein coordinates took 23.124 s\nTIMING: Loading ligand coordinates took 0.230 s\nTIMING: Centroid processing took 0.000 s\nTIMING: Loading protein coordinates took 142.073 s\nTIMING: Loading ligand coordinates took 0.194 s\nTIMING: Centroid processing took 0.001 s\nTIMING: Loading protein coordinates took 11.177 s\nTIMING: Loading ligand coordinates took 0.207 s\nTIMING: Centroid processing took 0.000 s\nTIMING: Loading protein coordinates took 89.144 s\nTIMING: Loading ligand coordinates took 0.201 s\nTIMING: Centroid processing took 0.001 s\nTIMING: Loading protein coordinates took 85.884 s\nTIMING: Loading ligand coordinates took 0.207 s\nTIMING: Centroid processing took 0.000 s\nTIMING: Loading protein coordinates took 287.552 s\nTIMING: Loading ligand coordinates took 0.075 s\nTIMING: Centroid processing took 0.001 s\n\nFeaturization finished, took 4288.329 s.\n\nConstruct dataset excluding failing featurization elements...\nTIMING: dataset construction took 0.139 s\nLoading dataset from disk.\n\nSplit dataset...\n\nTIMING: dataset construction took 0.156 s\nLoading dataset from disk.\nTIMING: dataset construction took 0.071 s\nLoading dataset from disk.\nTIMING: dataset construction took 0.058 s\nLoading dataset from disk.\n\nSaving dataset to \"/tmp/from-pdbbind/full_protein-core-grid-random\" ...\n"
    }
   ],
   "source": [
    "# Download (2GB!), featurize the dataset\n",
    "tasks, datasets, transformers = dc.molnet.load_pdbbind(featurizer=\"grid\", split=\"random\", subset=\"core\")\n",
    "train_dataset, valid_dataset, test_dataset = datasets"
   ]
  },
  {
   "cell_type": "code",
   "execution_count": 9,
   "metadata": {},
   "outputs": [],
   "source": [
    "# train a random forest model\n",
    "from sklearn.ensemble import RandomForestRegressor\n",
    "sklearn_model = RandomForestRegressor(n_estimators=100)\n",
    "model = dc.models.SklearnModel(sklearn_model)\n",
    "model.fit(train_dataset)"
   ]
  },
  {
   "cell_type": "code",
   "execution_count": 10,
   "metadata": {},
   "outputs": [
    {
     "output_type": "error",
     "ename": "NameError",
     "evalue": "name 'pdbbind_tasks' is not defined",
     "traceback": [
      "\u001b[0;31m---------------------------------------------------------------------------\u001b[0m",
      "\u001b[0;31mNameError\u001b[0m                                 Traceback (most recent call last)",
      "\u001b[0;32m<ipython-input-10-8b662066e477>\u001b[0m in \u001b[0;36m<module>\u001b[0;34m\u001b[0m\n\u001b[1;32m      1\u001b[0m \u001b[0;31m# train a MLP model\u001b[0m\u001b[0;34m\u001b[0m\u001b[0;34m\u001b[0m\u001b[0;34m\u001b[0m\u001b[0m\n\u001b[1;32m      2\u001b[0m \u001b[0mn_features\u001b[0m \u001b[0;34m=\u001b[0m \u001b[0mtrain_dataset\u001b[0m\u001b[0;34m.\u001b[0m\u001b[0mX\u001b[0m\u001b[0;34m.\u001b[0m\u001b[0mshape\u001b[0m\u001b[0;34m[\u001b[0m\u001b[0;36m1\u001b[0m\u001b[0;34m]\u001b[0m\u001b[0;34m\u001b[0m\u001b[0;34m\u001b[0m\u001b[0m\n\u001b[0;32m----> 3\u001b[0;31m \u001b[0mmodel\u001b[0m \u001b[0;34m=\u001b[0m \u001b[0mdc\u001b[0m\u001b[0;34m.\u001b[0m\u001b[0mmodels\u001b[0m\u001b[0;34m.\u001b[0m\u001b[0mMultitaskRegressor\u001b[0m\u001b[0;34m(\u001b[0m\u001b[0mn_tasks\u001b[0m\u001b[0;34m=\u001b[0m\u001b[0mlen\u001b[0m\u001b[0;34m(\u001b[0m\u001b[0mpdbbind_tasks\u001b[0m\u001b[0;34m)\u001b[0m\u001b[0;34m,\u001b[0m\u001b[0mn_features\u001b[0m\u001b[0;34m=\u001b[0m\u001b[0mn_features\u001b[0m\u001b[0;34m,\u001b[0m\u001b[0mlayer_sizes\u001b[0m\u001b[0;34m=\u001b[0m\u001b[0;34m[\u001b[0m\u001b[0;36m2000\u001b[0m\u001b[0;34m,\u001b[0m \u001b[0;36m1000\u001b[0m\u001b[0;34m]\u001b[0m\u001b[0;34m,\u001b[0m\u001b[0mdropouts\u001b[0m\u001b[0;34m=\u001b[0m\u001b[0;36m0.5\u001b[0m\u001b[0;34m,\u001b[0m\u001b[0mlearning_rate\u001b[0m\u001b[0;34m=\u001b[0m\u001b[0;36m0.0003\u001b[0m\u001b[0;34m)\u001b[0m\u001b[0;34m\u001b[0m\u001b[0;34m\u001b[0m\u001b[0m\n\u001b[0m\u001b[1;32m      4\u001b[0m \u001b[0mmodel\u001b[0m\u001b[0;34m.\u001b[0m\u001b[0mfit\u001b[0m\u001b[0;34m(\u001b[0m\u001b[0mtrain_dataset\u001b[0m\u001b[0;34m,\u001b[0m \u001b[0mnb_epoch\u001b[0m\u001b[0;34m=\u001b[0m\u001b[0;36m250\u001b[0m\u001b[0;34m)\u001b[0m\u001b[0;34m\u001b[0m\u001b[0;34m\u001b[0m\u001b[0m\n",
      "\u001b[0;31mNameError\u001b[0m: name 'pdbbind_tasks' is not defined"
     ]
    }
   ],
   "source": [
    "# train a MLP model\n",
    "n_features = train_dataset.X.shape[1]\n",
    "model = dc.models.MultitaskRegressor(n_tasks=len(pdbbind_tasks),n_features=n_features,layer_sizes=[2000, 1000],dropouts=0.5,learning_rate=0.0003)\n",
    "model.fit(train_dataset, nb_epoch=250)"
   ]
  },
  {
   "cell_type": "code",
   "execution_count": 11,
   "metadata": {},
   "outputs": [],
   "source": [
    "# check the model!\n",
    "metric = dc.metrics.Metric(dc.metrics.pearson_r2_score)"
   ]
  },
  {
   "cell_type": "code",
   "execution_count": 12,
   "metadata": {
    "tags": []
   },
   "outputs": [
    {
     "output_type": "stream",
     "name": "stdout",
     "text": "Evaluating model\ncomputed_metrics: [0.9755411721410139]\ncomputed_metrics: [0.16437959583981504]\nTrain scores\n{'pearson_r2_score': 0.9755411721410139}\nTest scores\n{'pearson_r2_score': 0.16437959583981504}\n"
    }
   ],
   "source": [
    "print(\"Evaluating model\")\n",
    "train_scores = model.evaluate(train_dataset, [metric], transformers)\n",
    "test_scores = model.evaluate(test_dataset, [metric], transformers)\n",
    "print(\"Train scores\")\n",
    "print(train_scores)\n",
    "print(\"Test scores\")\n",
    "print(test_scores)"
   ]
  }
 ]
}