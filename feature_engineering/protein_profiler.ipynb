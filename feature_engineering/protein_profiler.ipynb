{
 "cells": [
  {
   "cell_type": "markdown",
   "metadata": {},
   "source": [
    "TITLE: example.ipynb\n",
    "\n",
    "PURPOSE: <GOES HERE>\n",
    "\n",
    "PROJECT: <GOES HERE>\n",
    "\n",
    "AUTHOR: Jacob Lloyd North\n",
    "\n",
    "INSTITUTION: Oregon State University\n",
    "\n",
    "PRECONDITIONS: \n",
    "\n",
    "INPUTS: \n",
    "\n",
    "OUTPUTS: "
   ]
  },
  {
   "cell_type": "markdown",
   "metadata": {},
   "source": [
    "SECTION 1: Include commonly used libraries"
   ]
  },
  {
   "cell_type": "code",
   "execution_count": null,
   "metadata": {},
   "outputs": [],
   "source": [
    "# Maths and visualization libraries\n",
    "import numpy as np          # NumPy\n",
    "import scipy        # Import all of SciPy\n",
    "import networkx \n",
    "# import pathpy2\n",
    "import matplotlib.pyplot as plt     # Matplotlib\n",
    "import umap"
   ]
  },
  {
   "cell_type": "code",
   "execution_count": null,
   "metadata": {},
   "outputs": [],
   "source": [
    "%matplotlib inline"
   ]
  },
  {
   "cell_type": "code",
   "execution_count": null,
   "metadata": {},
   "outputs": [],
   "source": [
    "# Machine learning libraries\n",
    "# import sklearn\n",
    "# import torch             # Import all of PyTorch\n",
    "# import fastai            # Import all of FastAi\n",
    "# import pydbm            # boltzmann machines"
   ]
  },
  {
   "cell_type": "code",
   "execution_count": null,
   "metadata": {},
   "outputs": [],
   "source": [
    "# BIOLOGY-SPECIFIC LIBRARIES\n",
    "# Bioinformatics\n",
    "import biopandas\n",
    "import Bio          # Biopython\n",
    "import pdbtools     # Useful for dealing with pdbs\n",
    "import dlpdb        # Useful for parsing PDB\n",
    "# import proteincsm   # Symmetry calculation\n",
    "# import protein        # Utils for UniProt\n",
    "# import cathpy\n",
    "# import pydpi\n",
    "# import isambard\n",
    "import pyuniprot\n",
    "# import elaspic\n",
    "# import aesop\n",
    "# import backmap\n",
    "\n",
    "# import openproteindesign\n",
    "\n",
    "# import tssv\n",
    "# import propka\n",
    "# import bio-pyvol\n",
    "# import discere\n",
    "\n",
    "import ssbio\n",
    "\n",
    "# Structural Biology\n",
    "import RamachanDraw\n",
    "import biographs\n",
    "# import biskit       # BUILD FAILS\n",
    "# import aleph        # Molecular replacement library\n",
    "from ensemblator.ensemblator_core import analyze, prepare_input     # Clark, Brereton, Karplus\n",
    "# import paramagpy      # NMR paramagnetism\n",
    "# import povme          # Measure volume of pockets in a protein structure\n",
    "# import gmx-clusterByFeatures\n",
    "\n",
    "# Molecular Dynamics\n",
    "# import gromacs\n",
    "\n",
    "# Kinetics\n",
    "# import pybindingcurve\n",
    "\n",
    "# import ContactVis\n",
    "\n",
    "# import usum\n",
    "\n",
    "# MD analysis\n",
    "import mdtraj           # Import all of MDTraj\n",
    "import MDAnalysis\n",
    "# import pychimera\n",
    "\n",
    "# Protein Dynamics\n",
    "import prody as pd            # Protein dynamics\n",
    "# import pydtmc           # discrete-time markov chains\n",
    "# Normal modes of motion\n",
    "# import pydmd            # Dynamic mode decomposition\n",
    "# import pynamical        # Dynamical systems \n",
    "import pyemma\n",
    "# import molpx\n",
    "import msmtools\n",
    "# import pysfd\n",
    "import ipymol\n",
    "# import pypcazip"
   ]
  },
  {
   "cell_type": "code",
   "execution_count": null,
   "metadata": {},
   "outputs": [],
   "source": [
    "# PHYSICAL CHEMISTRY LIBRARIES\n",
    "\n",
    "# Quantum chemistry libraries\n",
    "# import quantum_dynamics\n",
    "# import qutip\n",
    "\n",
    "# Statistical thermodynamics\n",
    "# import curp         # energy (heat) flow analysis -- ONLY in Python2 currently!"
   ]
  },
  {
   "cell_type": "code",
   "execution_count": null,
   "metadata": {},
   "outputs": [],
   "source": [
    "# Cellular biology\n",
    "# import pysces       # Will copy stuff to Pysces directory for model!"
   ]
  },
  {
   "cell_type": "code",
   "execution_count": null,
   "metadata": {},
   "outputs": [],
   "source": [
    "# UTILITY LIBRARIES\n",
    "import wget         # to download pdb files"
   ]
  },
  {
   "cell_type": "code",
   "execution_count": null,
   "metadata": {},
   "outputs": [],
   "source": [
    "# DEBUG\n",
    "# import mdbenchmark  # For optimizing core usage in low-resources machines"
   ]
  },
  {
   "cell_type": "markdown",
   "metadata": {},
   "source": [
    "SECTION 2: MAIN"
   ]
  },
  {
   "cell_type": "code",
   "execution_count": null,
   "metadata": {
    "tags": []
   },
   "outputs": [],
   "source": [
    "# Get PDB\n",
    "PDB_id = input(\"Please enter a PDB ID:\")\n",
    "pro_name = input(\"Enter a name label:\")\n",
    "# Print Ramachandran plot of the protein\n",
    "from RamachanDraw import fetch, phi_psi, plot\n",
    "plot(fetch(PDB_id))     # Draw the Ramachandran plot\n",
    "\n",
    "phi_psi_dict, ignored_res = phi_psi(fetch(PDB_id), return_ignored=True) # Create dict to store phi/psi angles, also return the ignored AA's"
   ]
  },
  {
   "cell_type": "code",
   "execution_count": null,
   "metadata": {
    "tags": []
   },
   "outputs": [],
   "source": [
    "prot = pd.parsePDB(PDB_id)\n",
    "# Print useful statistics\n",
    "print(\"Radius of gyration:\", pd.calcGyradius(prot))\n",
    "print(\"Number of atoms:\", prot.numAtoms())\n",
    "print(\"Number of Coordinate sets:\", prot.numCoordsets())\n",
    "print(\"Number of residues:\", prot.numResidues())\n",
    "pd.showProtein(prot)"
   ]
  }
 ],
 "metadata": {
  "language_info": {
   "codemirror_mode": {
    "name": "ipython",
    "version": 3
   },
   "file_extension": ".py",
   "mimetype": "text/x-python",
   "name": "python",
   "nbconvert_exporter": "python",
   "pygments_lexer": "ipython3",
   "version": "3.7.7-final"
  },
  "orig_nbformat": 2,
  "kernelspec": {
   "name": "python37764bitc3d2672e15bf42b391f372abee464dda",
   "display_name": "Python 3.7.7 64-bit"
  }
 },
 "nbformat": 4,
 "nbformat_minor": 2
}