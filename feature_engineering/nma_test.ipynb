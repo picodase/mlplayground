{
 "cells": [
  {
   "cell_type": "markdown",
   "metadata": {},
   "source": [
    "# Feature engineering -- Normal mode analyses"
   ]
  },
  {
   "cell_type": "markdown",
   "metadata": {},
   "source": [
    "## Imports"
   ]
  },
  {
   "cell_type": "code",
   "execution_count": null,
   "metadata": {},
   "outputs": [],
   "source": [
    "# imports\n",
    "import nmafeat\n",
    "from prody import *\n",
    "import numpy as np"
   ]
  },
  {
   "cell_type": "markdown",
   "metadata": {},
   "source": [
    "## Compute normal modes"
   ]
  },
  {
   "cell_type": "code",
   "execution_count": 3,
   "metadata": {},
   "outputs": [
    {
     "name": "stderr",
     "output_type": "stream",
     "text": [
      "@> PDB file is found in working directory (2k39.pdb.gz).\n",
      "@> 76 atoms and 116 coordinate set(s) were parsed in 0.27s.\n",
      "@> Starting iterative superposition:\n",
      "@> Step #1: RMSD difference = 5.4124e-01\n",
      "@> Step #2: RMSD difference = 2.1728e-04\n",
      "@> Step #3: RMSD difference = 2.3341e-07\n",
      "@> Iterative superposition completed in 0.27s.\n",
      "@> Covariance is calculated using 116 coordinate sets.\n",
      "@> Covariance matrix calculated in 0.016614s.\n",
      "@> 20 modes were calculated in 0.10s.\n"
     ]
    },
    {
     "name": "stdout",
     "output_type": "stream",
     "text": [
      "Values range from 10.672 to 37.841\n"
     ]
    }
   ],
   "source": [
    "nmafeat.computeNMDfile()\n",
    "(coords, modes) = nmafeat.extractModesCoords()\n",
    "print(f\"Values range from {coords.min()} to {coords.max()}\")"
   ]
  },
  {
   "cell_type": "code",
   "execution_count": 15,
   "metadata": {},
   "outputs": [],
   "source": [
    "# %%\n",
    "dmin = coords.min() - 2\n",
    "dmax = coords.max() + 2\n",
    "a = np.mgrid[dmin:dmax:101j,dmin:dmax:101j,dmin:dmax:101j]\n",
    "a = a.reshape(3,1030301).transpose()"
   ]
  },
  {
   "cell_type": "markdown",
   "metadata": {},
   "source": [
    "## Interpolate the data onto the grid"
   ]
  },
  {
   "cell_type": "code",
   "execution_count": null,
   "metadata": {},
   "outputs": [],
   "source": [
    "# %%\n",
    "import scipy.interpolate.ndgriddata as ndgriddata\n",
    "mode1_interp = ndgriddata.griddata(coords, modes[0], a)     # interpolate the data onto the grid\n",
    "# %%\n",
    "# Eureka! Maybe it worked!\n",
    "isnotnan = mode1_interp[~np.isnan(mode1_interp)].size\n",
    "isnan = mode1_interp[np.isnan(mode1_interp)].size"
   ]
  },
  {
   "cell_type": "markdown",
   "metadata": {},
   "source": [
    "## Compute the gradient of the interpolated data"
   ]
  },
  {
   "cell_type": "code",
   "execution_count": 16,
   "metadata": {},
   "outputs": [
    {
     "data": {
      "text/plain": [
       "532695"
      ]
     },
     "execution_count": 16,
     "metadata": {},
     "output_type": "execute_result"
    }
   ],
   "source": [
    "δ = np.gradient(mode1_interp)\n",
    "δ[0][~np.isnan(δ[0])].size"
   ]
  },
  {
   "cell_type": "code",
   "execution_count": 17,
   "metadata": {},
   "outputs": [
    {
     "data": {
      "text/plain": [
       "(3, 101, 101, 101)"
      ]
     },
     "execution_count": 17,
     "metadata": {},
     "output_type": "execute_result"
    }
   ],
   "source": [
    "# Compute the first modes' size, then create the gradient and check its' size\n",
    "m1i_orig = mode1_interp.reshape(3,101,101,101)\n",
    "m1i_grad = np.gradient(m1i_orig)\n",
    "m1i_grad[0].shape"
   ]
  },
  {
   "cell_type": "code",
   "execution_count": 18,
   "metadata": {},
   "outputs": [
    {
     "data": {
      "text/plain": [
       "(array([], dtype=int64),\n",
       " array([], dtype=int64),\n",
       " array([], dtype=int64),\n",
       " array([], dtype=int64))"
      ]
     },
     "execution_count": 18,
     "metadata": {},
     "output_type": "execute_result"
    }
   ],
   "source": [
    "# find where the gradient is zero\n",
    "np.where(m1i_grad[0] == 0)"
   ]
  },
  {
   "cell_type": "markdown",
   "metadata": {},
   "source": [
    "## Compute singularity polynomial and dimensions"
   ]
  },
  {
   "cell_type": "code",
   "execution_count": null,
   "metadata": {},
   "outputs": [],
   "source": [
    "# "
   ]
  }
 ],
 "metadata": {
  "kernelspec": {
   "display_name": "mdanalysis",
   "language": "python",
   "name": "mdanalysis"
  },
  "language_info": {
   "codemirror_mode": {
    "name": "ipython",
    "version": 3
   },
   "file_extension": ".py",
   "mimetype": "text/x-python",
   "name": "python",
   "nbconvert_exporter": "python",
   "pygments_lexer": "ipython3",
   "version": "3.9.0"
  }
 },
 "nbformat": 4,
 "nbformat_minor": 4
}
