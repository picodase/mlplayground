{
 "cells": [
  {
   "cell_type": "markdown",
   "metadata": {},
   "source": [
    "# Conformational feature engineering for dynamics"
   ]
  },
  {
   "cell_type": "markdown",
   "metadata": {},
   "source": [
    "## Imports"
   ]
  },
  {
   "cell_type": "code",
   "execution_count": 3,
   "metadata": {},
   "outputs": [],
   "source": [
    "import Bio.PDB"
   ]
  },
  {
   "cell_type": "code",
   "execution_count": 1,
   "metadata": {},
   "outputs": [
    {
     "ename": "ModuleNotFoundError",
     "evalue": "No module named 'ripser'",
     "output_type": "error",
     "traceback": [
      "\u001b[0;31m---------------------------------------------------------------------------\u001b[0m",
      "\u001b[0;31mModuleNotFoundError\u001b[0m                       Traceback (most recent call last)",
      "\u001b[0;32m<ipython-input-1-5b6d0ead4ef3>\u001b[0m in \u001b[0;36m<module>\u001b[0;34m\u001b[0m\n\u001b[0;32m----> 1\u001b[0;31m \u001b[0;32mimport\u001b[0m \u001b[0melemSpecificPH\u001b[0m\u001b[0;34m\u001b[0m\u001b[0;34m\u001b[0m\u001b[0m\n\u001b[0m",
      "\u001b[0;32m~/Documents/GitHub/mlplayground/feature_engineering/elemSpecificPH.py\u001b[0m in \u001b[0;36m<module>\u001b[0;34m\u001b[0m\n\u001b[1;32m     13\u001b[0m \u001b[0;32mimport\u001b[0m \u001b[0mBio\u001b[0m\u001b[0;34m.\u001b[0m\u001b[0mPDB\u001b[0m\u001b[0;34m\u001b[0m\u001b[0;34m\u001b[0m\u001b[0m\n\u001b[1;32m     14\u001b[0m \u001b[0;34m\u001b[0m\u001b[0m\n\u001b[0;32m---> 15\u001b[0;31m \u001b[0;32mimport\u001b[0m \u001b[0mripser\u001b[0m\u001b[0;34m\u001b[0m\u001b[0;34m\u001b[0m\u001b[0m\n\u001b[0m\u001b[1;32m     16\u001b[0m \u001b[0;32mimport\u001b[0m \u001b[0mnumpy\u001b[0m \u001b[0;32mas\u001b[0m \u001b[0mnp\u001b[0m\u001b[0;34m\u001b[0m\u001b[0;34m\u001b[0m\u001b[0m\n\u001b[1;32m     17\u001b[0m \u001b[0;32mimport\u001b[0m \u001b[0mkmapper\u001b[0m \u001b[0;32mas\u001b[0m \u001b[0mkm\u001b[0m\u001b[0;34m\u001b[0m\u001b[0;34m\u001b[0m\u001b[0m\n",
      "\u001b[0;31mModuleNotFoundError\u001b[0m: No module named 'ripser'"
     ]
    }
   ],
   "source": [
    "import structuralPH\n",
    "import ph_analysis_MSMconfs"
   ]
  },
  {
   "cell_type": "markdown",
   "metadata": {},
   "source": [
    "## Compute conformations"
   ]
  },
  {
   "cell_type": "code",
   "execution_count": null,
   "metadata": {},
   "outputs": [],
   "source": [
    "confs = []\n",
    "\n",
    "# Calculate the conformations and return a list of filenames for conf. PDB files.\n",
    "# Convert the list of filenames to a list of Bio.PDB structure objects."
   ]
  },
  {
   "cell_type": "markdown",
   "metadata": {},
   "source": [
    "## Partition the structures based on various criteria"
   ]
  },
  {
   "cell_type": "code",
   "execution_count": null,
   "metadata": {},
   "outputs": [],
   "source": [
    "# Create a list of representations which arise from partitioning above structure differentially.\n",
    "# List structure should be a set of nested lists; \n",
    "# - The same sublist index accesses the same representation.\n",
    "# - The same superlist index accesses the same conformation.\n",
    "# Sizes of like sublists should thus be the same for all conformations of a given protein, as natoms is not conformationally-variant.\n",
    "partitions = []"
   ]
  },
  {
   "cell_type": "markdown",
   "metadata": {},
   "source": [
    "### Element-specific"
   ]
  },
  {
   "cell_type": "markdown",
   "metadata": {},
   "source": [
    "#### N"
   ]
  },
  {
   "cell_type": "code",
   "execution_count": null,
   "metadata": {},
   "outputs": [],
   "source": [
    "# modify the partition function \n",
    "\n",
    "def esphNitrogen(struc: Bio.PDB.Structure.Structure) -> np.ndarray:\n",
    "    '''\n",
    "    Obtains a position array for the 3D-coordinates of each atom in the provided structure.\n",
    "    '''\n",
    "    coords = []   # construct a (3 x natoms) array\n",
    "    for model in struc: # for each model,\n",
    "        for chain in model:    # for each chain,\n",
    "            for res in chain:   # for each residue,\n",
    "                for atom in res:    # for each atom,\n",
    "                    if atom. # if the atom is an carbon,\n",
    "                        coords.append(atom.get_coord()) # get the coordinates, append to a new array\n",
    "    return np.array(coords)    # convert to np.ndarray"
   ]
  },
  {
   "cell_type": "markdown",
   "metadata": {},
   "source": [
    "#### C"
   ]
  },
  {
   "cell_type": "code",
   "execution_count": null,
   "metadata": {},
   "outputs": [],
   "source": [
    "# modify the partition function \n",
    "\n",
    "def esphCarbon(struc: Bio.PDB.Structure.Structure) -> np.ndarray:\n",
    "    '''\n",
    "    Obtains a position array for the 3D-coordinates of each atom in the provided structure.\n",
    "    '''\n",
    "    coords = []   # construct a (3 x natoms) array\n",
    "    for model in struc: # for each model,\n",
    "        for chain in model:    # for each chain,\n",
    "            for res in chain:   # for each residue,\n",
    "                for atom in res:    # for each atom,\n",
    "                    if atom. # if the atom is a carbon,\n",
    "                        coords.append(atom.get_coord()) # get the coordinates, append to a new array\n",
    "    return np.array(coords)    # convert to np.ndarray"
   ]
  },
  {
   "cell_type": "markdown",
   "metadata": {},
   "source": [
    "#### O"
   ]
  },
  {
   "cell_type": "code",
   "execution_count": null,
   "metadata": {},
   "outputs": [],
   "source": [
    "# modify the partition function \n",
    "\n",
    "def esphOxygen(struc: Bio.PDB.Structure.Structure) -> np.ndarray:\n",
    "    '''\n",
    "    Obtains a position array for the 3D-coordinates of each atom in the provided structure.\n",
    "    '''\n",
    "    coords = []   # construct a (3 x natoms) array\n",
    "    for model in struc: # for each model,\n",
    "        for chain in model:    # for each chain,\n",
    "            for res in chain:   # for each residue,\n",
    "                for atom in res:    # for each atom,\n",
    "                    if atom. # if the atom is an oxygen,\n",
    "                        coords.append(atom.get_coord()) # get the coordinates, append to a new array\n",
    "    return np.array(coords)    # convert to np.ndarray"
   ]
  },
  {
   "cell_type": "markdown",
   "metadata": {},
   "source": [
    "#### S"
   ]
  },
  {
   "cell_type": "code",
   "execution_count": null,
   "metadata": {},
   "outputs": [],
   "source": [
    "# modify the partition function \n",
    "\n",
    "def esphSulfur(struc: Bio.PDB.Structure.Structure) -> np.ndarray:\n",
    "    '''\n",
    "    Obtains a position array for the 3D-coordinates of each atom in the provided structure.\n",
    "    '''\n",
    "    coords = []   # construct a (3 x natoms) array\n",
    "    for model in struc: # for each model,\n",
    "        for chain in model:    # for each chain,\n",
    "            for res in chain:   # for each residue,\n",
    "                for atom in res:    # for each atom,\n",
    "                    if atom. # if the atom is a sulfur,\n",
    "                        coords.append(atom.get_coord()) # get the coordinates, append to a new array\n",
    "    return np.array(coords)    # convert to np.ndarray"
   ]
  },
  {
   "cell_type": "markdown",
   "metadata": {},
   "source": [
    "### Secondary Structure"
   ]
  },
  {
   "cell_type": "markdown",
   "metadata": {},
   "source": [
    "#### Beta sheets"
   ]
  },
  {
   "cell_type": "code",
   "execution_count": null,
   "metadata": {},
   "outputs": [],
   "source": [
    "# modify the partition function \n",
    "\n",
    "def sssphβ(struc: Bio.PDB.Structure.Structure) -> np.ndarray:\n",
    "    '''\n",
    "    Obtains a position array for the 3D-coordinates of each atom in the provided structure.\n",
    "    '''\n",
    "    coords = []   # construct a (3 x natoms) array\n",
    "    for model in struc: # for each model,\n",
    "        for chain in model:    # for each chain,\n",
    "            for res in chain:   # for each residue,\n",
    "                if res # if residue is in a beta-sheet,\n",
    "                    for atom in res:    # for each atom,\n",
    "                        coords.append(atom.get_coord()) # get the coordinates, append to a new array\n",
    "    return np.array(coords)    # convert to np.ndarray"
   ]
  },
  {
   "cell_type": "markdown",
   "metadata": {},
   "source": [
    "#### Alpha helices"
   ]
  },
  {
   "cell_type": "code",
   "execution_count": null,
   "metadata": {},
   "outputs": [],
   "source": [
    "# modify the partition function \n",
    "\n",
    "def sssphα(struc: Bio.PDB.Structure.Structure) -> np.ndarray:\n",
    "    '''\n",
    "    Obtains a position array for the 3D-coordinates of each atom in the provided structure.\n",
    "    '''\n",
    "    coords = []   # construct a (3 x natoms) array\n",
    "    for model in struc: # for each model,\n",
    "        for chain in model:    # for each chain,\n",
    "            for res in chain:   # for each residue,\n",
    "                if res # if residue is in an alpha-helix,\n",
    "                    for atom in res:    # for each atom,\n",
    "                        coords.append(atom.get_coord()) # get the coordinates, append to a new array\n",
    "    return np.array(coords)    # convert to np.ndarray"
   ]
  },
  {
   "cell_type": "markdown",
   "metadata": {},
   "source": [
    "#### Loop region"
   ]
  },
  {
   "cell_type": "code",
   "execution_count": null,
   "metadata": {},
   "outputs": [],
   "source": [
    "# modify the partition function \n",
    "\n",
    "def sssphLoop(struc: Bio.PDB.Structure.Structure) -> np.ndarray:\n",
    "    '''\n",
    "    Obtains a position array for the 3D-coordinates of each atom in the provided structure.\n",
    "    '''\n",
    "    coords = []   # construct a (3 x natoms) array\n",
    "    for model in struc: # for each model,\n",
    "        for chain in model:    # for each chain,\n",
    "            for res in chain:   # for each residue,\n",
    "                if res # if residue is in a loop,\n",
    "                    for atom in res:    # for each atom,\n",
    "                        coords.append(atom.get_coord()) # get the coordinates, append to a new array\n",
    "    return np.array(coords)    # convert to np.ndarray"
   ]
  },
  {
   "cell_type": "markdown",
   "metadata": {},
   "source": [
    "### Amino acid grouping"
   ]
  },
  {
   "cell_type": "markdown",
   "metadata": {},
   "source": [
    "#### Hydrophobics"
   ]
  },
  {
   "cell_type": "code",
   "execution_count": null,
   "metadata": {},
   "outputs": [],
   "source": [
    "# modify the partition function \n",
    "\n",
    "def rsphHψ(struc: Bio.PDB.Structure.Structure) -> np.ndarray:\n",
    "    '''\n",
    "    Obtains a position array for the 3D-coordinates of each atom in the provided structure.\n",
    "    '''\n",
    "    coords = []   # construct a (3 x natoms) array\n",
    "    for model in struc: # for each model,\n",
    "        for chain in model:    # for each chain,\n",
    "            for res in chain:   # for each residue,\n",
    "                if res # if residue is in the class of hydrophobic aa's,\n",
    "                    for atom in res:    # for each atom,\n",
    "                        coords.append(atom.get_coord()) # get the coordinates, append to a new array\n",
    "    return np.array(coords)    # convert to np.ndarray"
   ]
  },
  {
   "cell_type": "markdown",
   "metadata": {},
   "source": [
    "#### Polars"
   ]
  },
  {
   "cell_type": "code",
   "execution_count": null,
   "metadata": {},
   "outputs": [],
   "source": [
    "# modify the partition function \n",
    "\n",
    "def rsphδ(struc: Bio.PDB.Structure.Structure) -> np.ndarray:\n",
    "    '''\n",
    "    Obtains a position array for the 3D-coordinates of each atom in the provided structure.\n",
    "    '''\n",
    "    coords = []   # construct a (3 x natoms) array\n",
    "    for model in struc: # for each model,\n",
    "        for chain in model:    # for each chain,\n",
    "            for res in chain:   # for each residue,\n",
    "                if res # if residue is in the class of polar aa's,\n",
    "                    for atom in res:    # for each atom,\n",
    "                        coords.append(atom.get_coord()) # get the coordinates, append to a new array\n",
    "    return np.array(coords)    # convert to np.ndarray"
   ]
  },
  {
   "cell_type": "markdown",
   "metadata": {},
   "source": [
    "#### Large"
   ]
  },
  {
   "cell_type": "code",
   "execution_count": null,
   "metadata": {},
   "outputs": [],
   "source": [
    "# modify the partition function \n",
    "\n",
    "def rsphL(struc: Bio.PDB.Structure.Structure) -> np.ndarray:\n",
    "    '''\n",
    "    Obtains a position array for the 3D-coordinates of each atom in the provided structure.\n",
    "    '''\n",
    "    coords = []   # construct a (3 x natoms) array\n",
    "    for model in struc: # for each model,\n",
    "        for chain in model:    # for each chain,\n",
    "            for res in chain:   # for each residue,\n",
    "                if res # if residue is in the class of large aa's,\n",
    "                    for atom in res:    # for each atom,\n",
    "                        coords.append(atom.get_coord()) # get the coordinates, append to a new array\n",
    "    return np.array(coords)    # convert to np.ndarray"
   ]
  },
  {
   "cell_type": "markdown",
   "metadata": {},
   "source": [
    "#### Small"
   ]
  },
  {
   "cell_type": "code",
   "execution_count": null,
   "metadata": {},
   "outputs": [],
   "source": [
    "# modify the partition function \n",
    "\n",
    "def rsphS(struc: Bio.PDB.Structure.Structure) -> np.ndarray:\n",
    "    '''\n",
    "    Obtains a position array for the 3D-coordinates of each atom in the provided structure.\n",
    "    '''\n",
    "    coords = []   # construct a (3 x natoms) array\n",
    "    for model in struc: # for each model,\n",
    "        for chain in model:    # for each chain,\n",
    "            for res in chain:   # for each residue,\n",
    "                if res # if residue is in the class of small aa's,\n",
    "                    for atom in res:    # for each atom,\n",
    "                        coords.append(atom.get_coord()) # get the coordinates, append to a new array\n",
    "    return np.array(coords)    # convert to np.ndarray"
   ]
  },
  {
   "cell_type": "markdown",
   "metadata": {},
   "source": [
    "### Run the partitions"
   ]
  },
  {
   "cell_type": "code",
   "execution_count": 4,
   "metadata": {},
   "outputs": [
    {
     "name": "stdout",
     "output_type": "stream",
     "text": [
      "aanmafeat.py\r\n",
      "data\r\n",
      "diffgeomfeat.py\r\n",
      "dyn_net_analy.ipynb\r\n",
      "framewisebindingaff.py\r\n",
      "freqanaly.py\r\n",
      "gc_full_analyzer.py\r\n",
      "gen_net_analy.ipynb\r\n",
      "getcontacts_convert.py\r\n",
      "getcontacts_difference.py\r\n",
      "getcontacts_download.py\r\n",
      "getcontacts_environment.yml\r\n",
      "get_dynnets.sh\r\n",
      "get_structnets.sh\r\n",
      "gmx_md_example.ipynb\r\n",
      "JLN_1_22D\r\n",
      "matrixModsPH.py\r\n",
      "mdanalysis\r\n",
      "metadata_2020_12_19_18_24_35.csv\r\n",
      "msm_environment.yml\r\n",
      "msmrunner.py\r\n",
      "msm_test.py\r\n",
      "native_contacts.ipynb\r\n",
      "netanaly_md.py\r\n",
      "netcomparer.py\r\n",
      "nmafeat.py\r\n",
      "nmafeat_test.py\r\n",
      "nma_test.ipynb\r\n",
      "nmcompare.py\r\n",
      "nmr_obs.ipynb\r\n",
      "numpy_test.py\r\n",
      "pca_ex.ipynb\r\n",
      "pca_modes.txt\r\n",
      "pdbutils.py\r\n",
      "persistent_homology_of_msm_conformations.ipynb\r\n",
      "ph_analysis_MSMconfs.py\r\n",
      "prody_autoanaly.ipynb\r\n",
      "protein_profiler.ipynb\r\n",
      "__pycache__\r\n",
      "qsub_getcontacts_convert.sh\r\n",
      "qsub_get_ph.sh\r\n",
      "qsub_get_structnets.sh\r\n",
      "qsub_msm_analy.sh\r\n",
      "qsub_topol.sh\r\n",
      "ring\r\n",
      "struct_dynam_analy.md\r\n",
      "struct_netanaly.py\r\n",
      "structuralPH.py\r\n",
      "topo_environment.yml\r\n",
      "topol_full.py\r\n",
      "topol_ph.py\r\n",
      "topol_test.py\r\n",
      "traj_basic_analy.ipynb\r\n",
      "trajinteracs.py\r\n",
      "ubi_pca.nmd\r\n"
     ]
    }
   ],
   "source": []
  },
  {
   "cell_type": "markdown",
   "metadata": {},
   "source": [
    "## Calculate PH for each conformation"
   ]
  },
  {
   "cell_type": "code",
   "execution_count": null,
   "metadata": {},
   "outputs": [],
   "source": [
    "# Using ripser, compute the persistence diagrams, appending to a list each time one is generated.\n",
    "\n",
    "# for each "
   ]
  }
 ],
 "metadata": {
  "kernelspec": {
   "display_name": "mdanalysis",
   "language": "python",
   "name": "mdanalysis"
  },
  "language_info": {
   "codemirror_mode": {
    "name": "ipython",
    "version": 3
   },
   "file_extension": ".py",
   "mimetype": "text/x-python",
   "name": "python",
   "nbconvert_exporter": "python",
   "pygments_lexer": "ipython3",
   "version": "3.8.6"
  }
 },
 "nbformat": 4,
 "nbformat_minor": 4
}
