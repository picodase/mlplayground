{
 "cells": [
  {
   "cell_type": "code",
   "execution_count": null,
   "metadata": {
    "tags": []
   },
   "outputs": [],
   "source": [
    "# Import libraries\n",
    "import nglview, ipymd, MDAnalysis, mdtraj       # trajectory analysis libraries\n",
    "import pyemma               # Markov model analysis\n",
    "\n",
    "# import gromacs\n",
    "# from Bio.PDB import PDBList\n",
    "\n",
    "import datetime\n",
    "now = datetime.datetime.now()\n",
    "\n",
    "from sys import argv\n",
    "\n",
    "# gromacs.config.setup() # UNCOMMENT if not yet setup on your system!\n",
    "# print(\"GMX version:\",gromacs.release(),\"\\n\")\n",
    "# help(gromacs.pdb2gmx)"
   ]
  },
  {
   "cell_type": "markdown",
   "metadata": {},
   "source": [
    "# TRAJECTORY ANALYSIS\n",
    "\n",
    "This notebook analyses an MD trajectory with several tools."
   ]
  },
  {
   "cell_type": "code",
   "execution_count": null,
   "metadata": {
    "tags": []
   },
   "outputs": [],
   "source": [
    "# Download the PDB target\n",
    "import pypdb\n",
    "\n",
    "# Define the analysis datapath\n",
    "def now_dir_ts():\n",
    "    now_ts = str(now.year)+\"_\"+str(now.month)+\"_\"+str(now.day)+\"_\"+str(now.hour)+\"_\"+str(now.minute)+\"_\"+str(now.second)\n",
    "    return now_ts\n",
    "\n",
    "ana_dir = \"/Users/jacobnorth/Box/extracurriculars/research/SURE_S2020_fileshare/sure_data/\"+input(\"Please enter a sub-directory of sure_data/:\")+\"/mdana_\"+now_dir_ts()\n",
    "\n",
    "print(ana_dir)      # Print the simulation datapath"
   ]
  },
  {
   "cell_type": "code",
   "execution_count": null,
   "metadata": {
    "tags": []
   },
   "outputs": [],
   "source": [
    "# id = input(\"Please enter a PDB ID to simulate:\")\n",
    "# pdbl = PDBList()            # Create a PDBList object \n",
    "# pdbl.retrieve_pdb_file(id, file_format='pdb', pdir=ana_dir)       # Retrieve the PDB file in PDB format\n",
    "# pypdb.get_pdb_file('1oca', filetype='PDB')      # Search and download on PDB"
   ]
  },
  {
   "cell_type": "markdown",
   "metadata": {},
   "source": [
    "# MDTraj Intro analysis"
   ]
  },
  {
   "cell_type": "code",
   "execution_count": null,
   "metadata": {
    "tags": []
   },
   "outputs": [],
   "source": [
    "ana_dir = '/Users/jacobnorth/Box/extracurriculars/research/SURE_S2020_fileshare/sure_data/1aki/mdsim_2020_6_24_15_44_SHELLSCRIPT/'\n",
    "\n",
    "import mdtraj as md\n",
    "# t = md.load('trajectory.xtc', top='trajectory.pdb')\n",
    "t = md.load(ana_dir+'em.trr', top=ana_dir+'em.gro')\n",
    "print(t)"
   ]
  },
  {
   "cell_type": "code",
   "execution_count": null,
   "metadata": {
    "tags": []
   },
   "outputs": [],
   "source": [
    "import numpy as np\n",
    "\n",
    "# Print basic info about the trajectory \n",
    "print(\"Trajectory dimensions:\\t\", t.xyz.shape)      # Traj dimensions\n",
    "print(\"Trajectory mean dims:\\t\", np.mean(t.xyz))\n",
    "print(\"l_unitcell for last frame:\\t\", t.unitcell_lengths[-1])\n"
   ]
  },
  {
   "cell_type": "code",
   "execution_count": null,
   "metadata": {},
   "outputs": [],
   "source": [
    "# Save the trajectory back to the disk with a hd5 format\n",
    "# t[::2].save('halftraj.h5')"
   ]
  },
  {
   "cell_type": "code",
   "execution_count": null,
   "metadata": {},
   "outputs": [],
   "source": [
    "# If you only wish to keep the c-alpha atoms (CA), ...\n",
    "# atoms_to_keep = [a.index for a in t.topology.atoms if a.name == 'CA']\n",
    "# t.restrict_atoms(atoms_to_keep)  # this acts inplace on the trajectory\n",
    "# t.save('CA-only.h5')"
   ]
  },
  {
   "cell_type": "markdown",
   "metadata": {},
   "source": [
    "# Atom selection"
   ]
  },
  {
   "cell_type": "code",
   "execution_count": null,
   "metadata": {
    "tags": []
   },
   "outputs": [],
   "source": [
    "print('How many atoms?    %s' % t.n_atoms)\n",
    "print('How many res+solv? %s' % t.n_residues)"
   ]
  },
  {
   "cell_type": "code",
   "execution_count": null,
   "metadata": {
    "tags": []
   },
   "outputs": [],
   "source": [
    "topology = t.topology\n",
    "print(topology)"
   ]
  },
  {
   "cell_type": "code",
   "execution_count": null,
   "metadata": {
    "tags": [
     "outputPrepend"
    ]
   },
   "outputs": [],
   "source": [
    "print('Fifth atom: %s' % topology.atom(4))\n",
    "print('All atoms: %s' % [atom for atom in topology.atoms])"
   ]
  },
  {
   "cell_type": "code",
   "execution_count": null,
   "metadata": {
    "tags": [
     "outputPrepend"
    ]
   },
   "outputs": [],
   "source": [
    "print('Second residue: %s' % t.topology.residue(1))\n",
    "print('All residues: %s' % [residue for residue in t.topology.residues])"
   ]
  },
  {
   "cell_type": "code",
   "execution_count": null,
   "metadata": {
    "tags": []
   },
   "outputs": [],
   "source": [
    "# Identify an atom of interest\n",
    "atom = topology.atom(10)\n",
    "print('''Hi! I am the %sth atom, and my name is %s. \n",
    "I am a %s atom with %s bonds. \n",
    "I am part of an %s residue.''' % ( atom.index, atom.name, atom.element.name, atom.n_bonds, atom.residue.name))"
   ]
  },
  {
   "cell_type": "code",
   "execution_count": null,
   "metadata": {
    "tags": []
   },
   "outputs": [],
   "source": [
    "# Print ALL Carbon atoms in the structure\n",
    "print([atom.index for atom in topology.atoms if atom.element.symbol is 'C' and atom.is_sidechain])"
   ]
  },
  {
   "cell_type": "code",
   "execution_count": null,
   "metadata": {
    "tags": [
     "outputPrepend"
    ]
   },
   "outputs": [],
   "source": [
    "# Print only the even residues in the first chain...?\n",
    "print([residue for residue in topology.chain(0).residues if residue.index % 2 == 0])"
   ]
  },
  {
   "cell_type": "code",
   "execution_count": null,
   "metadata": {
    "tags": []
   },
   "outputs": [],
   "source": [
    "# Select atoms in the first two residues\n",
    "print(topology.select('resid 1 to 2'))"
   ]
  },
  {
   "cell_type": "code",
   "execution_count": null,
   "metadata": {
    "tags": []
   },
   "outputs": [],
   "source": [
    "# Print all nitrogen atoms in the structure\n",
    "print(topology.select('name N and backbone'))"
   ]
  },
  {
   "cell_type": "code",
   "execution_count": null,
   "metadata": {
    "tags": []
   },
   "outputs": [],
   "source": [
    "# Select CA atoms in the first two residues, show the code that does this!\n",
    "selection = topology.select_expression('name CA and resid 1 to 2')\n",
    "print(selection)"
   ]
  },
  {
   "cell_type": "markdown",
   "metadata": {},
   "source": [
    "# Baker-Hubbard Hydrogen Bond Identification"
   ]
  },
  {
   "cell_type": "code",
   "execution_count": null,
   "metadata": {},
   "outputs": [],
   "source": [
    "from __future__ import print_function\n",
    "%matplotlib inline\n",
    "import matplotlib.pyplot as plt\n",
    "import itertools\n",
    "import mdtraj as md\n",
    "import mdtraj.testing"
   ]
  },
  {
   "cell_type": "code",
   "execution_count": null,
   "metadata": {
    "tags": []
   },
   "outputs": [],
   "source": [
    "t = md.load_pdb('http://www.rcsb.org/pdb/files/1oca.pdb')\n",
    "print(t)"
   ]
  },
  {
   "cell_type": "code",
   "execution_count": null,
   "metadata": {
    "tags": []
   },
   "outputs": [],
   "source": [
    "hbonds = md.baker_hubbard(t, periodic=False)\n",
    "label = lambda hbond : '%s -- %s' % (t.topology.atom(hbond[0]), t.topology.atom(hbond[2]))\n",
    "for hbond in hbonds:\n",
    "    print(label(hbond))"
   ]
  },
  {
   "cell_type": "code",
   "execution_count": null,
   "metadata": {},
   "outputs": [],
   "source": [
    "da_distances = md.compute_distances(t, hbonds[:, [0,2]], periodic=False)"
   ]
  },
  {
   "cell_type": "code",
   "execution_count": null,
   "metadata": {},
   "outputs": [],
   "source": [
    "color = itertools.cycle(['r', 'b', 'gold','g'])\n",
    "# for i in hbonds:\n",
    "for i in [2,3,4,5,6,7,8,9]:\n",
    "    plt.hist(da_distances[:, i], color=next(color), label=label(hbonds[i]), alpha=0.5)\n",
    "plt.legend()\n",
    "plt.ylabel('Freq');\n",
    "plt.xlabel('Donor-acceptor distance [nm]')"
   ]
  },
  {
   "cell_type": "code",
   "execution_count": null,
   "metadata": {},
   "outputs": [],
   "source": []
  }
 ],
 "metadata": {
  "language_info": {
   "codemirror_mode": {
    "name": "ipython",
    "version": 3
   },
   "file_extension": ".py",
   "mimetype": "text/x-python",
   "name": "python",
   "nbconvert_exporter": "python",
   "pygments_lexer": "ipython3",
   "version": "3.8.3-final"
  },
  "orig_nbformat": 2,
  "kernelspec": {
   "name": "python_defaultSpec_1594517405164",
   "display_name": "Python 3.8.3 64-bit"
  }
 },
 "nbformat": 4,
 "nbformat_minor": 2
}