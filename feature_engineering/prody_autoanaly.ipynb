{
 "cells": [
  {
   "cell_type": "markdown",
   "metadata": {},
   "source": [
    "TITLE: ProDy_autoanaly.ipynb\n",
    "\n",
    "PURPOSE: To provide an automatic analysis of protein dynamics for an NMR or trajectory file.\n",
    "\n",
    "PROJECT: Generic.\n",
    "\n",
    "AUTHOR: Jacob Lloyd North\n",
    "\n",
    "INSTITUTION: Oregon State University\n",
    "\n",
    "PRECONDITIONS: Trajectory or NMR file is provided.\n",
    "\n",
    "INPUTS: \n",
    "\n",
    "OUTPUTS: "
   ]
  },
  {
   "cell_type": "markdown",
   "metadata": {},
   "source": [
    "SECTION 1: Include commonly used libraries"
   ]
  },
  {
   "cell_type": "code",
   "execution_count": null,
   "metadata": {},
   "outputs": [],
   "source": [
    "# Maths and visualization libraries\n",
    "import numpy as np          # NumPy\n",
    "import scipy        # Import all of SciPy\n",
    "import networkx \n",
    "# import pathpy2\n",
    "import matplotlib.pyplot as plt     # Matplotlib\n",
    "import umap"
   ]
  },
  {
   "cell_type": "code",
   "execution_count": null,
   "metadata": {},
   "outputs": [],
   "source": [
    "%matplotlib inline"
   ]
  },
  {
   "cell_type": "code",
   "execution_count": null,
   "metadata": {},
   "outputs": [],
   "source": [
    "# Machine learning libraries\n",
    "# import sklearn\n",
    "# import torch             # Import all of PyTorch\n",
    "# import fastai            # Import all of FastAi\n",
    "# import pydbm            # boltzmann machines"
   ]
  },
  {
   "cell_type": "code",
   "execution_count": null,
   "metadata": {},
   "outputs": [],
   "source": [
    "# BIOLOGY-SPECIFIC LIBRARIES\n",
    "# Bioinformatics\n",
    "import biopandas\n",
    "import Bio          # Biopython\n",
    "# import pdbtools     # Useful for dealing with pdbs\n",
    "import dlpdb        # Useful for parsing PDB\n",
    "# import proteincsm   # Symmetry calculation\n",
    "# import protein        # Utils for UniProt\n",
    "# import cathpy\n",
    "# import pydpi\n",
    "# import isambard\n",
    "import pyuniprot\n",
    "# import elaspic\n",
    "# import aesop\n",
    "# import backmap\n",
    "\n",
    "# import openproteindesign\n",
    "\n",
    "# import tssv\n",
    "# import propka\n",
    "# import bio-pyvol\n",
    "# import discere\n",
    "\n",
    "import ssbio\n",
    "\n",
    "# Structural Biology\n",
    "import RamachanDraw\n",
    "import biographs\n",
    "# import biskit       # BUILD FAILS\n",
    "# import aleph        # Molecular replacement library\n",
    "from ensemblator.ensemblator_core import analyze, prepare_input     # Clark, Brereton, Karplus\n",
    "# import paramagpy      # NMR paramagnetism\n",
    "# import povme          # Measure volume of pockets in a protein structure\n",
    "# import gmx-clusterByFeatures\n",
    "\n",
    "# Molecular Dynamics\n",
    "# import gromacs\n",
    "\n",
    "# Kinetics\n",
    "# import pybindingcurve\n",
    "\n",
    "# import ContactVis\n",
    "\n",
    "# import usum\n",
    "\n",
    "# MD analysis\n",
    "import mdtraj           # Import all of MDTraj\n",
    "import MDAnalysis\n",
    "# import pychimera\n",
    "\n",
    "# Protein Dynamics\n",
    "import prody as pd            # Protein dynamics\n",
    "# import pydtmc           # discrete-time markov chains\n",
    "# Normal modes of motion\n",
    "# import pydmd            # Dynamic mode decomposition\n",
    "# import pynamical        # Dynamical systems \n",
    "import pyemma\n",
    "# import molpx\n",
    "import msmtools\n",
    "# import pysfd\n",
    "# import ipymol\n",
    "# import pypcazip"
   ]
  },
  {
   "cell_type": "code",
   "execution_count": null,
   "metadata": {},
   "outputs": [],
   "source": [
    "# PHYSICAL CHEMISTRY LIBRARIES\n",
    "\n",
    "# Quantum chemistry libraries\n",
    "# import quantum_dynamics\n",
    "# import qutip\n",
    "\n",
    "# Statistical thermodynamics\n",
    "# import curp         # energy (heat) flow analysis -- ONLY in Python2 currently!"
   ]
  },
  {
   "cell_type": "code",
   "execution_count": null,
   "metadata": {},
   "outputs": [],
   "source": [
    "# Cellular biology\n",
    "# import pysces       # Will copy stuff to Pysces directory for model!"
   ]
  },
  {
   "cell_type": "code",
   "execution_count": null,
   "metadata": {},
   "outputs": [],
   "source": [
    "# UTILITY LIBRARIES\n",
    "import wget         # to download pdb files"
   ]
  },
  {
   "cell_type": "code",
   "execution_count": null,
   "metadata": {},
   "outputs": [],
   "source": [
    "# DEBUG\n",
    "# import mdbenchmark  # For optimizing core usage in low-resources machines"
   ]
  },
  {
   "cell_type": "markdown",
   "metadata": {},
   "source": [
    "SECTION 2: MAIN"
   ]
  },
  {
   "cell_type": "code",
   "execution_count": null,
   "metadata": {
    "tags": []
   },
   "outputs": [],
   "source": [
    "# Get PDB\n",
    "\n",
    "# PDB_id = input(\"Please enter a PDB ID:\")      # if from the RCSB\n",
    "pro_name = input(\"Enter a name label:\")         # if a local PDB file\n",
    "local_pdb_file = 'md_0_1_trajectory_nowater.pdb'\n",
    "\n",
    "# Print Ramachandran plot of the protein\n",
    "from RamachanDraw import fetch, phi_psi, plot   \n",
    "\n",
    "# Draw the Ramachandran plot\n",
    "# plot(fetch(PDB_id))       # if from the RCSB\n",
    "plot(local_pdb_file)   # if a local PDB file\n",
    "\n",
    "# Generating a dictionary to store the phi and psi angles, also return the ignored AA\n",
    "# phi_psi_dict, ignored_res = phi_psi(fetch(PDB_id), return_ignored=True)   # from RCSB\n",
    "phi_psi_dict, ignored_res = phi_psi(local_pdb_file, return_ignored=True) # local PDB file\n",
    "\n",
    "# ProDy testing"
   ]
  },
  {
   "cell_type": "code",
   "execution_count": null,
   "metadata": {},
   "outputs": [],
   "source": [
    "# Label your protein\n",
    "pro_filename = \"md_0_1_trajectory_nowater.pdb\"\n",
    "pro_name = input(\"Enter a name label:\")\n",
    "\n",
    "from RamachanDraw import fetch, phi_psi, plot\n",
    "plot(pro_filename)     # Draw the Ramachandran plot"
   ]
  },
  {
   "cell_type": "code",
   "execution_count": null,
   "metadata": {
    "tags": []
   },
   "outputs": [],
   "source": [
    "# prot = pd.parsePDB(PDB_id)    # from RCSB\n",
    "pro = pd.parsePDB('md_0_1_trajectory_nowater.pdb', subset = 'calpha')   # local PDB file\n",
    "\n",
    "# Print useful statistics\n",
    "print(\"Radius of gyration:\", pd.calcGyradius(pro))\n",
    "print(\"Number of atoms:\", pro.numAtoms())\n",
    "print(\"Number of Coordinate sets:\", pro.numCoordsets())\n",
    "print(\"Number of residues:\", pro.numResidues())\n",
    "pd.showProtein(pro)"
   ]
  },
  {
   "cell_type": "markdown",
   "metadata": {},
   "source": [
    "PRINCIPAL COMPONENT ANALYSIS"
   ]
  },
  {
   "cell_type": "code",
   "execution_count": null,
   "metadata": {},
   "outputs": [],
   "source": [
    "\n",
    "pd.apps.prody_apps.prody_pca('md_0_1_trajectory_nowater.pdb', figformat='png', outall=True)"
   ]
  },
  {
   "cell_type": "code",
   "execution_count": null,
   "metadata": {
    "tags": []
   },
   "outputs": [],
   "source": [
    "# Prepare the ensemble\n",
    "#pro = pd.parsePDB(PDB_id, subset='calpha')     # from RCSB\n",
    "pro = pd.parsePDB('md_0_1_trajectory_nowater.pdb', subset = 'calpha')   # local PDB file\n",
    "\n",
    "pro_selection = pro.select('resnum < ' + str(pro.numResidues()))\n",
    "pro_ensemble = pd.Ensemble(pro_selection)\n",
    "cs = pro_ensemble.getCoords() # get coordinate sets\n",
    "print(cs)\n",
    "pro_ensemble.addCoordset(cs)\n",
    "\n",
    "\n",
    "pro_ensemble.setCoords(cs)\n",
    "\n",
    "pro_ensemble.iterpose()"
   ]
  },
  {
   "cell_type": "code",
   "execution_count": null,
   "metadata": {
    "tags": []
   },
   "outputs": [],
   "source": [
    "# Run PCA \n",
    "pca = pd.PCA(pro_name)\n",
    "pca.buildCovariance(pro_ensemble)\n",
    "pca.calcModes()"
   ]
  },
  {
   "cell_type": "code",
   "execution_count": null,
   "metadata": {
    "tags": []
   },
   "outputs": [],
   "source": [
    "# Observe top 6 ranked principal components\n",
    "for mode in pca[:6]:\n",
    "    print(pd.calcFractVariance(mode).round(2))\n",
    "# Save the principal modes\n",
    "# pd.saveModel(pca)"
   ]
  },
  {
   "cell_type": "markdown",
   "metadata": {},
   "source": [
    "ANISOTROPIC NETWORK MODEL\n"
   ]
  },
  {
   "cell_type": "code",
   "execution_count": null,
   "metadata": {
    "tags": []
   },
   "outputs": [],
   "source": [
    "anm = pd.ANM(pro_name) # instantiate ANM object\n",
    "anm.buildHessian(pro_selection) # build Hessian matrix for selected atoms\n",
    "anm.calcModes() # calculate normal modes\n",
    "# saveModel(anm)"
   ]
  },
  {
   "cell_type": "code",
   "execution_count": null,
   "metadata": {
    "tags": []
   },
   "outputs": [],
   "source": [
    "# Access individual mode instances\n",
    "slowest_mode = anm[0]\n",
    "print( slowest_mode )\n",
    "print( slowest_mode.getEigval().round(3) )"
   ]
  },
  {
   "cell_type": "code",
   "execution_count": null,
   "metadata": {
    "tags": []
   },
   "outputs": [],
   "source": [
    "# Observe top 6 ranked principal components\n",
    "for mode in anm[:6]:\n",
    "    print(pd.calcFractVariance(mode).round(2))"
   ]
  },
  {
   "cell_type": "code",
   "execution_count": null,
   "metadata": {
    "tags": []
   },
   "outputs": [],
   "source": [
    "# Confirm mode orthogonality - dot product of mode vectors\n",
    "print((anm[0] * anm[1]).round(10))\n",
    "print((anm[0] * anm[2]).round(10))"
   ]
  },
  {
   "cell_type": "markdown",
   "metadata": {},
   "source": [
    "COMPARING EXPERIMENTAL AND THEORETICAL RESULTS"
   ]
  },
  {
   "cell_type": "code",
   "execution_count": null,
   "metadata": {
    "tags": []
   },
   "outputs": [],
   "source": [
    "# Compare overlap table of PCA and ANM\n",
    "pd.printOverlapTable(pca[:6], anm[:6])\n",
    "ot = pd.showOverlapTable(pca[:6], anm[:6])\n",
    "# ot[2]\n",
    "plt.savefig('overlap_table.png', bbox_inches='tight')"
   ]
  },
  {
   "cell_type": "markdown",
   "metadata": {},
   "source": [
    "DATA OUTPUT"
   ]
  },
  {
   "cell_type": "code",
   "execution_count": null,
   "metadata": {},
   "outputs": [],
   "source": [
    "# Write Normal Modes for PCA data\n",
    "pd.writeNMD(pro_name + '_' + PDB_id + '_pca.nmd', pca[:6], pro_selection)         # NMD format for nm wizard\n",
    "pd.writeArray('ubi_pca_modes.txt', pca.getArray(), format='%8.3f')     # text"
   ]
  },
  {
   "cell_type": "code",
   "execution_count": null,
   "metadata": {},
   "outputs": [],
   "source": [
    "# Write Normal Modes for ANM data\n",
    "pd.writeNMD(pro_name + '_' + PDB_id + '_anm.nmd', anm[:6], pro_selection)         # NMD format for nm wizard"
   ]
  },
  {
   "cell_type": "code",
   "execution_count": null,
   "metadata": {},
   "outputs": [],
   "source": [
    "# pd.pathVMD('/Users/jacobnorth/Applications/VMD\\ 1.9.4.app/Contents/MacOS/startup.command')\n",
    "# pd.viewNMDinVMD('ubi_pca.nmd')"
   ]
  },
  {
   "cell_type": "code",
   "execution_count": null,
   "metadata": {},
   "outputs": [],
   "source": [
    "pd.showSqFlucts(pca[::]);\n",
    "pd.showSqFlucts(anm[::]);\n",
    "pd.showNormedSqFlucts(anm[::]);\n",
    "plt.savefig('sq_flucts.png', bbox_inches='tight')"
   ]
  },
  {
   "cell_type": "markdown",
   "metadata": {},
   "source": [
    "STIFFNESS"
   ]
  },
  {
   "cell_type": "code",
   "execution_count": null,
   "metadata": {},
   "outputs": [],
   "source": [
    "pro_hdr, header = pd.parsePDB(local_pdb_file, header=True)\n",
    "\n",
    "# Define calphas \n",
    "calphas = pro.ca # define calphas\n",
    "stiffness = pd.calcMechStiff(anm, calphas)  # calculate stiffnesses\n",
    "\n",
    "# Illustrate mechanical stiffness of the protein\n",
    "show = pd.showMechStiff(stiffness, calphas, cmap='jet_r')\n",
    "plt.savefig('mech_stiffness.png', bbox_inches='tight')\n",
    "\n",
    "# Show mean mechanical stiffness\n",
    "show = pd.showMeanMechStiff(stiffness, calphas, header, 'A', cmap='jet_r')\n",
    "plt.savefig('mean_mech_stiff.png', bbox_inches='tight')\n",
    "\n",
    "# Calculate range of k, spring constant\n",
    "pd.calcStiffnessRange(stiffness)"
   ]
  },
  {
   "cell_type": "code",
   "execution_count": null,
   "metadata": {},
   "outputs": [],
   "source": [
    "# Pipe to VMD\n",
    "# pd.writeVMDstiffness(stiffness, gfp, [3,7], [0,7.5], filename='1gfl_3-7aa')\n",
    "# pd.writeVMDstiffness(stiffness, gfp, [3], [0,7], filename='1gfl_3')"
   ]
  },
  {
   "cell_type": "markdown",
   "metadata": {},
   "source": [
    "CALCULATE DISTRIBUTION OF DEFORMATION"
   ]
  },
  {
   "cell_type": "code",
   "execution_count": null,
   "metadata": {},
   "outputs": [],
   "source": [
    "d0 = pd.calcPairDeformationDist(anm, calphas, 3, 132)\n",
    "show = pd.showPairDeformationDist(anm, calphas, 3, 132)\n",
    "plt.savefig('pds_dist.png', bbox_inches='tight')"
   ]
  },
  {
   "cell_type": "markdown",
   "metadata": {},
   "source": [
    "PRS MATRIX"
   ]
  },
  {
   "cell_type": "code",
   "execution_count": null,
   "metadata": {},
   "outputs": [],
   "source": [
    "# Separate alpha carbons!\n",
    "prot_ca = pd.parsePDB(local_pdb_file, subset='ca')\n",
    "anm_prot = pd.ANM(pro_name)\n",
    "anm_prot.buildHessian(prot_ca)\n",
    "anm_prot.calcModes()\n",
    "\n",
    "# Perturbative response\n",
    "show = pd.showPerturbResponse(anm_prot, atoms=prot_ca)\n",
    "plt.show()\n",
    "plt.savefig('perturb_response.png', bbox_inches='tight')\n",
    "\n",
    "# Save model\n",
    "#pd.saveModel(anm_prot, pro_name, matrices=True)\n",
    "#pd.writeNMD(pro_name+\"_PRS\", anm_prot, prot_ca)"
   ]
  },
  {
   "cell_type": "markdown",
   "metadata": {},
   "source": [
    "EVOLUTIONARY ANALYSIS - EVOL"
   ]
  },
  {
   "cell_type": "code",
   "execution_count": null,
   "metadata": {},
   "outputs": [],
   "source": [
    "pkey\n",
    "type(pkey)\n",
    "(list(pkey))[0]\n",
    "print(\"PDB ID:\", PDB_id)\n",
    "print(\"full_MSA=\", full_MSA)\n",
    "print(\"MSA=\", msa)"
   ]
  },
  {
   "cell_type": "code",
   "execution_count": null,
   "metadata": {
    "tags": []
   },
   "outputs": [],
   "source": [
    "# Download the full MSA file for protein family\n",
    "pkey = pd.searchPfam(PDB_id).keys()      # obtain the key\n",
    "full_MSA = pd.fetchPfamMSA((list(pkey))[0])        # Fetch the full MSA\n",
    "msa = pd.parseMSA(full_MSA)        # Parse the MSA\n",
    "# Refine MSA to remove gappy entries\n",
    "msa_refine = pd.refineMSA(msa, label=PDB_id, rowocc=0.8, seqid=0.98)"
   ]
  },
  {
   "cell_type": "code",
   "execution_count": null,
   "metadata": {},
   "outputs": [],
   "source": [
    "# Occupancy calculation\n",
    "pd.showMSAOccupancy(msa_refine, occ='res')\n",
    "calcMSAOccupancy(msa_refine, occ='res').min()   # Find the minimum\n",
    "\n",
    "# Shannon entropy\n",
    "entropy = calcShannonEntropy(msa_refine)\n",
    "showShannonEntropy(entropy, indices)\n",
    "mutinfo = buildMutinfoMatrix(msa_refine)\n",
    "mutinfo_norm = applyMutinfoNorm(mutinfo, entropy, norm='minent')\n",
    "mutinfo_corr = applyMutinfoCorr(mutinfo, corr='apc')\n",
    "showMutinfoMatrix(mutinfo)\n",
    "showMutinfoMatrix(mutinfo_corr, clim=[0, mutinfo_corr.max()], xlabel=pro_name)\n",
    "writeArray(pro_name + 'array.txt', mutinfo)\n",
    "# Sequence-structure comparison - http://prody.csb.pitt.edu/tutorials/evol_tutorial/comparison.html"
   ]
  }
 ],
 "metadata": {
  "language_info": {
   "codemirror_mode": {
    "name": "ipython",
    "version": 3
   },
   "file_extension": ".py",
   "mimetype": "text/x-python",
   "name": "python",
   "nbconvert_exporter": "python",
   "pygments_lexer": "ipython3",
   "version": "3.8.3-final"
  },
  "orig_nbformat": 2,
  "kernelspec": {
   "name": "python37764bitc3d2672e15bf42b391f372abee464dda",
   "display_name": "Python 3.7.7 64-bit"
  }
 },
 "nbformat": 4,
 "nbformat_minor": 2
}