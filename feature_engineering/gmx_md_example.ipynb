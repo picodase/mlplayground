{
 "cells": [
  {
   "cell_type": "code",
   "execution_count": 2,
   "metadata": {
    "tags": []
   },
   "outputs": [
    {
     "output_type": "display_data",
     "data": {
      "text/plain": "_ColormakerRegistry()",
      "application/vnd.jupyter.widget-view+json": {
       "version_major": 2,
       "version_minor": 0,
       "model_id": "c3a64dc0f56f4c4e821b913b0685fb95"
      }
     },
     "metadata": {}
    }
   ],
   "source": [
    "# Import libraries\n",
    "import nglview, ipymd, MDAnalysis, mdtraj       # trajectory analysis libraries\n",
    "import pyemma               # Markov model analysis\n",
    "\n",
    "# import gromacs\n",
    "# from Bio.PDB import PDBList\n",
    "\n",
    "import datetime\n",
    "now = datetime.datetime.now()\n",
    "\n",
    "from sys import argv\n",
    "\n",
    "# gromacs.config.setup() # UNCOMMENT if not yet setup on your system!\n",
    "# print(\"GMX version:\",gromacs.release(),\"\\n\")\n",
    "# help(gromacs.pdb2gmx)"
   ]
  },
  {
   "cell_type": "markdown",
   "metadata": {},
   "source": [
    "# TRAJECTORY ANALYSIS\n",
    "\n",
    "This notebook analyses an MD trajectory with several tools."
   ]
  },
  {
   "cell_type": "code",
   "execution_count": 3,
   "metadata": {
    "tags": []
   },
   "outputs": [
    {
     "output_type": "stream",
     "name": "stdout",
     "text": "/Users/jacobnorth/Box/extracurriculars/research/SURE_S2020_fileshare/sure_analyses/1aki/mdana_2020_6_24_15_54_14\n"
    }
   ],
   "source": [
    "# Download the PDB target\n",
    "import pypdb\n",
    "\n",
    "# Define the analysis datapath\n",
    "def now_dir_ts():\n",
    "    now_ts = str(now.year)+\"_\"+str(now.month)+\"_\"+str(now.day)+\"_\"+str(now.hour)+\"_\"+str(now.minute)+\"_\"+str(now.second)\n",
    "    return now_ts\n",
    "\n",
    "ana_dir = \"/Users/jacobnorth/Box/extracurriculars/research/SURE_S2020_fileshare/sure_analyses/\"+input(\"Please enter a sub-directory of sure_analyses/:\")+\"/mdana_\"+now_dir_ts()\n",
    "\n",
    "print(ana_dir)      # Print the simulation datapath"
   ]
  },
  {
   "cell_type": "code",
   "execution_count": null,
   "metadata": {
    "tags": []
   },
   "outputs": [],
   "source": [
    "# id = input(\"Please enter a PDB ID to simulate:\")\n",
    "# pdbl = PDBList()            # Create a PDBList object \n",
    "# pdbl.retrieve_pdb_file(id, file_format='pdb', pdir=ana_dir)       # Retrieve the PDB file in PDB format\n",
    "# pypdb.get_pdb_file('1oca', filetype='PDB')      # Search and download on PDB"
   ]
  },
  {
   "cell_type": "code",
   "execution_count": null,
   "metadata": {},
   "outputs": [],
   "source": [
    "# Analyze with MDTraj\n"
   ]
  }
 ],
 "metadata": {
  "language_info": {
   "codemirror_mode": {
    "name": "ipython",
    "version": 3
   },
   "file_extension": ".py",
   "mimetype": "text/x-python",
   "name": "python",
   "nbconvert_exporter": "python",
   "pygments_lexer": "ipython3",
   "version": "3.7.7-final"
  },
  "orig_nbformat": 2,
  "kernelspec": {
   "name": "python37764bitc3d2672e15bf42b391f372abee464dda",
   "display_name": "Python 3.7.7 64-bit"
  }
 },
 "nbformat": 4,
 "nbformat_minor": 2
}