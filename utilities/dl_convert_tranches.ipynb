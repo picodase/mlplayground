{
 "metadata": {
  "language_info": {
   "codemirror_mode": {
    "name": "ipython",
    "version": 3
   },
   "file_extension": ".py",
   "mimetype": "text/x-python",
   "name": "python",
   "nbconvert_exporter": "python",
   "pygments_lexer": "ipython3",
   "version": 3
  },
  "orig_nbformat": 2
 },
 "nbformat": 4,
 "nbformat_minor": 2,
 "cells": [
  {
   "cell_type": "code",
   "execution_count": null,
   "metadata": {},
   "outputs": [],
   "source": [
    "# install conda packages\n",
    "!conda install -c rdkit rdkit"
   ]
  },
  {
   "cell_type": "code",
   "execution_count": null,
   "metadata": {},
   "outputs": [],
   "source": [
    "# imports\n",
    "from rdkit.Chem.rdmolfiles import SmilesMolSupplier\n",
    "from pathlib import Path\n",
    "import os"
   ]
  },
  {
   "cell_type": "code",
   "execution_count": null,
   "metadata": {},
   "outputs": [],
   "source": [
    "# download the tranches\n",
    "\n",
    "!bash big_ds/ZINC-downloader-2D-smi.wget  # use bash to download the files in the ZINC-downloader file"
   ]
  },
  {
   "cell_type": "code",
   "execution_count": null,
   "metadata": {},
   "outputs": [],
   "source": [
    "# create images and sort into new folders\n",
    "# SOURCE\n",
    "#!mv -r B*\n",
    "\n",
    "paths = Path('big_ds/').glob('**/*.smi')\n",
    "\n",
    "attempt = 1\n",
    "\n",
    "# DESTINATION\n",
    "destdirname = (\"drw_attempt\"+str(attempt))      # name the dir\n",
    "os.mkdir(destdirname)       # make a dir to hold each object"
   ]
  },
  {
   "cell_type": "code",
   "execution_count": null,
   "metadata": {},
   "outputs": [],
   "source": [
    "# make image files at the specified resolution\n",
    "\n",
    "idx = 0         # start at 0 for each image name\n",
    "\n",
    "for path in paths:\n",
    "    path_in_str = str(path)\n",
    "    #print(path_in_str)     # test selection\n",
    "    \n",
    "    # CREATE ALL IMAGES FOR THE GIVEN FILESET\n",
    "    suppl = SmilesMolSupplier(path_in_str)      # create a SMILES supplier from the current image\n",
    "    for mol in suppl:       # for each molecule specified in the supplier,\n",
    "        filename = (\"drw_\"+str(attempt)+\"_\"+str(idx)+\".png\")     # name the new file\n",
    "        MolToFile(mol, filename, size=(128,128))    # create the new file\n",
    "        idx=idx+1       # increase the idx\n",
    "        os.rename(filename, destdirname+\"/\"+filename)   # move the file into the dest directory\n",
    "attempt=attempt+1"
   ]
  }
 ]
}